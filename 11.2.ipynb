{
 "cells": [
  {
   "cell_type": "code",
   "execution_count": 10,
   "metadata": {},
   "outputs": [
    {
     "name": "stdout",
     "output_type": "stream",
     "text": [
      "[17.11 16.7  17.08 16.43 16.86 17.11 17.55 17.18 17.16 16.92 16.99 18.04\n",
      " 16.89 17.03 16.98] 17.068666666666665\n",
      "[15.1089899  15.90909091 20.15515152 16.91424242 12.84888889 19.23020202\n",
      " 13.98737374 17.68444444 12.09535354 20.3369697  20.63626263 15.49333333\n",
      " 16.42212121 14.83747475 17.71676768] 16.62511111111111\n",
      "[ 0.11 -0.3   0.08 -0.57 -0.14  0.11  0.55  0.18  0.16 -0.08 -0.01  1.04\n",
      " -0.11  0.03 -0.02] 0.0686666666666665\n",
      "[-1.8910101  -1.09090909  3.15515152 -0.08575758 -4.15111111  2.23020202\n",
      " -3.01262626  0.68444444 -4.90464646  3.3369697   3.63626263 -1.50666667\n",
      " -0.57787879 -2.16252525  0.71676768] -0.37488888888888766\n"
     ]
    }
   ],
   "source": [
    "import pandas as pd\n",
    "import seaborn as sns\n",
    "import numpy as np\n",
    "import matplotlib.pyplot as plt\n",
    "from scipy.stats import poisson\n",
    "\n",
    "l = 17\n",
    "n = 100\n",
    "rv = poisson(l)\n",
    "\n",
    "mu = []\n",
    "sigma = []\n",
    "\n",
    "for i in range(15):\n",
    "    a = rv.rvs(size = n)\n",
    "    mu.append(np.mean(a))\n",
    "    sigma.append((abs(a - a.mean())**2).sum()/(n-1))\n",
    "    \n",
    "mu = np.array(mu)\n",
    "sigma = np.array(sigma)\n",
    "    \n",
    "print(mu, np.mean(mu))\n",
    "print(sigma, np.mean(sigma))\n",
    "print(mu - l, np.mean(mu - l))\n",
    "print(sigma - l, np.mean(sigma - l))"
   ]
  }
 ],
 "metadata": {
  "kernelspec": {
   "display_name": "Python 3",
   "language": "python",
   "name": "python3"
  },
  "language_info": {
   "codemirror_mode": {
    "name": "ipython",
    "version": 3
   },
   "file_extension": ".py",
   "mimetype": "text/x-python",
   "name": "python",
   "nbconvert_exporter": "python",
   "pygments_lexer": "ipython3",
   "version": "3.8.5"
  }
 },
 "nbformat": 4,
 "nbformat_minor": 4
}
