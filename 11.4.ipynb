{
 "cells": [
  {
   "cell_type": "code",
   "execution_count": 29,
   "metadata": {},
   "outputs": [
    {
     "name": "stdout",
     "output_type": "stream",
     "text": [
      "[8.14145191138682, 8.5903013531717, 8.87166386809048, 8.89127303954205, 8.90004555857289, 9.01100709077283, 9.06268728753017, 9.085375810725301, 9.10712786126957, 9.2963415384098]\n",
      "[1.4190869853423291, 1.4385766027566922, 1.4856554682216483, 1.4957984772408461, 1.5239943535391873, 1.5656134430517739, 1.5788253095018452, 1.5972131695003469, 1.6020257666600033, 1.6126467921066865]\n",
      "[1.2427642034371296, 1.2767459492885802, 1.306557618647112, 1.3089685805047457, 1.3093902976085516, 1.314315574141295, 1.3395362621702231, 1.3491591189991121, 1.3629794862939253, 1.366733447091808]\n"
     ]
    }
   ],
   "source": [
    "import pandas as pd\n",
    "import seaborn as sns\n",
    "import matplotlib.pyplot as plt\n",
    "\n",
    "df = pd.read_csv(\"breast_cancer_1000_genes.tsv\", sep=\"\\t\", index_col=0)\n",
    "\n",
    "dif = []\n",
    "s = []\n",
    "iqr = []\n",
    "for i in list(df):\n",
    "    dif.append(df[i].max() - df[i].min())\n",
    "    s.append((abs(df[i] - df[i].mean())**2).sum()/(len(df[i])-2))\n",
    "    iqr.append(np.percentile(df[i], 75) - np.percentile(df[i], 25))\n",
    "\n",
    "dif.sort()\n",
    "s.sort()\n",
    "iqr.sort()\n",
    "      \n",
    "print(dif[0:10])\n",
    "print(s[0:10])\n",
    "print(iqr[0:10])\n",
    "\n",
    "sns.boxplot(x = dif[0:10])\n",
    "plt.tight_layout()\n",
    "plt.savefig(\"11.4.1.jpeg\")\n",
    "plt.close()\n",
    "\n",
    "sns.boxplot(x = s[0:10])\n",
    "plt.tight_layout()\n",
    "plt.savefig(\"11.4.2.jpeg\")\n",
    "plt.close()\n",
    "\n",
    "sns.boxplot(x = iqr[0:10])\n",
    "plt.tight_layout()\n",
    "plt.savefig(\"11.4.3.jpeg\")\n",
    "plt.close()"
   ]
  },
  {
   "cell_type": "code",
   "execution_count": null,
   "metadata": {},
   "outputs": [],
   "source": []
  }
 ],
 "metadata": {
  "kernelspec": {
   "display_name": "Python 3",
   "language": "python",
   "name": "python3"
  },
  "language_info": {
   "codemirror_mode": {
    "name": "ipython",
    "version": 3
   },
   "file_extension": ".py",
   "mimetype": "text/x-python",
   "name": "python",
   "nbconvert_exporter": "python",
   "pygments_lexer": "ipython3",
   "version": "3.8.5"
  }
 },
 "nbformat": 4,
 "nbformat_minor": 4
}
